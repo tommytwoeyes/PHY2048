{
 "cells": [
  {
   "cell_type": "markdown",
   "metadata": {},
   "source": [
    "# Relative Motion\n",
    "\n",
    "$V_{CA}$ <= This subscript means \"$C$ relative to $A$"
   ]
  },
  {
   "cell_type": "markdown",
   "metadata": {},
   "source": [
    "___\n",
    "\n",
    "## Calculating Relative Velocity\n",
    "\n",
    "The velocity of $C$ relative to $B$ is the velocity of $C$ relative to $A$ ___plus___ the velocity of $A$ relative to $B$.\n",
    "\n",
    "$$(V_x)_{CB} = (V_x)_{CA} + (V_x)_{AB}$$\n",
    "\n",
    "_Note: this formula was found by Galileo and only works in certain circumstances._\n",
    "\n",
    "### More Correct Formula \n",
    "(from Theory of Relativity)\n",
    "\n",
    "$$V_{BE} = \\frac{V_{BS} + V_{ES}}{1 + \\frac{V_{BS}V_{ES}}{c^2}}$$\n",
    "\n",
    "Where $c$ = speed of light = $3\\times10^8 \\frac{m}{s}$"
   ]
  },
  {
   "cell_type": "markdown",
   "metadata": {},
   "source": [
    "## Example 1\n",
    "\n",
    "The police are chasig a bank robber. While driving at $50 \\frac{m}{s}$, they fire a bullet to shoot out a tire of the bank robber's car. The police gun shoots bullets at $300 \\frac{m}{s}$. What is the bullet's speed as measured by a TV camera crew parked beside the road?\n",
    "\n",
    "#### Model\n",
    "Assume that all motion is in the positive $x$-direction. The bullet is the object that is observed from both the police car and the ground.\n",
    "\n",
    "#### Solve\n",
    "The bullet $B$'s velocity relative to the gun $G$ is $(V_x)_{BG} = 300 \\frac{m}{s}$. The gun, inside the car, is traveling relative to the TV crew $C$ at $(V_x)_{GC} = 50 \\frac{m}{s}$. We can combine these values to find that the bullet's velocity relative to the TV crew on the ground is:\n",
    "\n",
    "$$(V_x)_{BC} = (V_x)_{BG} + (V_x)_{GC} = 300 \\frac{m}{s} + 50 \\frac{m}{s} = 350 \\frac{m}{s}$$"
   ]
  },
  {
   "cell_type": "markdown",
   "metadata": {},
   "source": [
    "## Example 2\n",
    "\n",
    "A spaceship traveling past Earth at $C$ (speed of light) shines a flashlight, which emits photons&mdash;also at the speed of light.\n",
    "\n",
    "What is the speed of the photons relative to Earth (assuming Earth is stationary)?\n",
    "\n",
    "$$V_{SE} = \\text{Velocity of spaceship relative to Earth} = C = 3\\times10^8 \\frac{m}{s}$$\n",
    "$$V_{PS} = \\text{Velocity of photons relative to spaceship} = C = 3\\times10^8 \\frac{m}{s}$$\n",
    "$$V_{PE} = \\frac{C+C}{1 + \\frac{C\\cdot C}{C^2}}$$"
   ]
  },
  {
   "cell_type": "markdown",
   "metadata": {},
   "source": [
    "## Example 3\n",
    "\n",
    "Suppose you have a truck moving at $V_{T} = 100 \\frac{\\text{miles}}{\\text{hour}}$ mph, and it fires a bullet from a gun pointing _behind_ it (i.e. fires the bullet back towards where it came from). \n",
    "\n",
    "The velocity of the bullet is also $V_B = 100 \\frac{\\text{miles}}{\\text{hour}}.\n",
    "\n",
    "What would the velocity of the bullet be relative to the ground?\n",
    "\n",
    "$$(V_x)_{BT} = (V_x)_{TG} + (V_x)_{BG}$$\n",
    "\n",
    "$$(V_x)_{BT} = 100 \\frac{\\text{miles}}{\\text{hour}} + (-100) \\frac{\\text{miles}}{\\text{hour}} = 0 \\frac{\\text{miles}}{\\text{hour}}$$ \n",
    "\n",
    "#### Video\n",
    "See YouTube video of MythBusters episode, in which they test this by firing a soccer ball at $100 \\frac{\\text{miles}}{\\text{hour}}$ backwards out of a truck, also traveling at $100 \\frac{\\text{miles}}{\\text{hour}}$.\n",
    "\n",
    "> __Momentum Cancellation Experiment:__<br/>\n",
    "> <a href='https://youtu.be/BLuI118nhzc' target='_blank'>https://youtu.be/BLuI118nhzc</a>"
   ]
  },
  {
   "cell_type": "markdown",
   "metadata": {
    "collapsed": true
   },
   "source": [
    "## Reference Frames\n",
    "\n",
    "* A coordinate system in which an experimenter makes position measurements is called a __reference frame.__\n",
    "\n",
    "* In the figure, Object $C$ is measured in two different reference frames, $A$ and $B$.\n",
    "\n",
    "* $\\vec{r_{CA}}$ is the position of $C$ relative to the origin of $A$.\n",
    "\n",
    "* $\\vec{r_{CB}}$ is the position of $C$ relative to the origin of $B$.\n",
    "\n",
    "* $\\vec{r_{AB}}$ is the position of the origin of $A$ relative to the origin of $B$.\n",
    "\n",
    "$$\\vec{r_{CB}} = \\vec{r_{CA}} + \\vec{r_{AB}}$$\n",
    "\n",
    "__TODO:__ Find &amp; paste associated figure."
   ]
  },
  {
   "cell_type": "markdown",
   "metadata": {},
   "source": [
    "## Example 4\n",
    "\n",
    "A factory conveyor belt rolls at $3 \\frac{m}{s}$. A mouse (also on the conveyor belt) sees a piece of cheese directly across the belt and heads straight for the cheese at $4 \\frac{m}{s}$.\n",
    "\n",
    "What is the mouse's speed relative to the factory floor?\n",
    "\n",
    "$$\\vec{V_M} = \\text{velocity of mouse} = (4 \\text{ m/s})i$$\n",
    "$$\\vec{V_B} = \\text{velocity of conveyor belt} = (-3 \\text{ m/s})j$$\n",
    "$$\\vec{V_F} = \\text{velocity of factory floor} = (0 \\text{ m/s})$$\n",
    "$$\\vec{V_{MF}} = \\vec{V_{MB}} + \\vec{V_{BF}} \\\\$$\n",
    "$$\\vec{V_{MF}} = (4 \\text{ m/s})i + (-3 \\text{ m/s})j = \\sqrt{(4)^2+(-3)^2} = 5 \\text{ m/s}$$"
   ]
  },
  {
   "cell_type": "markdown",
   "metadata": {},
   "source": [
    "## Example 5\n",
    "\n",
    "Cleveland is $300 \\text{miles}$ east of Chicago. A plane leaves Chicago flying due east at $500 \\text{ mph}$. The pilot forgot to check the weather and doesn't know that the wind is blowing to the south at $50 \\text{ mph}$.\n",
    "\n",
    "What is the plane's ground speed? \n",
    "\n",
    "Where is the plane $0.6 \\text{ hours}$ later, when the plane expects to land in Cleveland?\n",
    "\n",
    "$$\\vec{V_{pa}} = \\text{ velocity of plane relative to air} = 500 \\text{ mph} \\\\ $$\n",
    "\n",
    "$$\\vec{V_{ag}} = \\text{ velocity of wind (air) relative to ground} = 50 \\text{ mph} \\\\$$\n",
    "\n",
    "$$\\vec{V_{pg}} = \\text{ velocity of plane relative to ground} \\\\ $$\n",
    "\n",
    "$$\\vec{V_{pg}} = \\sqrt{(\\vec{V_{pa}})^2 + (\\vec{V_{ag}})^2} \\\\ $$\n",
    "\n",
    "$$\\vec{V_{pg}} = \\sqrt{(500)^2 + (50)^2} = 502.494 \\text{ mph}$$\n",
    "\n",
    "$$\\text{Angle } \\theta = \\arctan(\\frac{50}{500}) = -5.71 \\deg$$\n",
    "\n",
    "<img src='./Relative_Motion_Example.png' style='margin-top: 4rem;'/>"
   ]
  },
  {
   "cell_type": "code",
   "execution_count": null,
   "metadata": {
    "collapsed": true
   },
   "outputs": [],
   "source": []
  }
 ],
 "metadata": {
  "kernelspec": {
   "display_name": "Python 2",
   "language": "python",
   "name": "python2"
  },
  "language_info": {
   "codemirror_mode": {
    "name": "ipython",
    "version": 2
   },
   "file_extension": ".py",
   "mimetype": "text/x-python",
   "name": "python",
   "nbconvert_exporter": "python",
   "pygments_lexer": "ipython2",
   "version": "2.7.10"
  }
 },
 "nbformat": 4,
 "nbformat_minor": 0
}
