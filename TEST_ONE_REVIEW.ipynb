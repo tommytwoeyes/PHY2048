{
 "cells": [
  {
   "cell_type": "markdown",
   "metadata": {},
   "source": [
    "# Test One Review\n",
    "\n",
    "## Test Format\n",
    "* 10 multiple choice question\n",
    "* 3 word problems\n",
    "\n",
    "<p><strong style='color:orange;'>Important:</strong> <span style='color:black;'>Take good notes, because you can bring them to the test!</span></p>\n",
    "\n",
    "<p><strong style='color:red;'>Critical:</strong> <span style='color:black;'>Do not forget to include <strong>units</strong> in your answers on the test! Points will be deducted if the appropriate units are missing.</span></p>\n",
    "\n",
    "## Dot Product:<br/>Implications for Velocity &amp; Acceleration\n",
    "<table style='width: 100%'>\n",
    "<tr>\n",
    "  <td style='width: 30%; vertical-align: middle;'>\n",
    "      $$\\mathbf{\\vec{v} \\cdot \\vec{a}}$$\n",
    "  </td>\n",
    "  <td style='width: 70%;'>\n",
    "      <strong>If the dot product $\\vec{v} \\cdot \\vec{a}$ is:</strong><br/>\n",
    "      \n",
    "      <ul style=\"list-style-image: url('./arrow_bullet.png');\">\n",
    "          <li>$\\vec{v} \\cdot \\vec{a} > 0 \\quad$ If <strong>positive,</strong> the object is <strong><em>speeding up</em></strong></li>\n",
    "          <li>$\\vec{v} \\cdot \\vec{a} = 0 \\quad$ If <strong>equal to $0$,</strong> the object has <strong><em>constant velocity</em></strong></li>\n",
    "          <li>$\\vec{v} \\cdot \\vec{a} < 0 \\quad$ If <strong>negative,</strong> the object is <strong><em>slowing down</em></strong></li>\n",
    "      </ul>\n",
    "  </td>\n",
    "</tr>\n",
    "</table>\n",
    "\n",
    "---\n",
    "\n",
    "## Solving for Time\n",
    "\n",
    "Time can be found by manipulating the __slope formula.__\n",
    "\n",
    "In these equations, $A$ = acceleration, and $V$ = velocity ($V_i$ = initial velocity, and $V_f$ = final velocity):\n",
    "\n",
    "$$\\text{Acceleration } A = \\frac{V_f - V_i}{t_f - t_i}$$\n",
    "\n",
    "$$A = \\frac{V_f - V_i}{\\Delta t}$$\n",
    "\n",
    "To find a value for time when it is not given in a word problem, simply __solve the slope equation for $t$__:\n",
    "\n",
    "$$\n",
    "A = \\frac{V_f  V_i}{\\Delta t} \\\\\n",
    "A \\cdot \\Delta t = \\Delta t \\left(\\frac{V_f - V_i}{\\Delta t}\\right) \\\\\n",
    "A \\cdot \\Delta t = V_f - V_i \\\\\n",
    "\\frac{A \\cdot \\Delta t}{A} = \\frac{V_f - V_i}{A} \\\\\n",
    "\\\\\n",
    "\\\\ \\mathbf{\\Delta t = \\frac{V_f - V_i}{A}}\n",
    "$$"
   ]
  },
  {
   "cell_type": "markdown",
   "metadata": {
    "collapsed": true
   },
   "source": [
    "---\n",
    "\n",
    "## Example 1\n",
    "\n",
    "#### Shooting Over a Hill\n",
    "\n",
    "A projectile is fired ith speed $V_0$ at an angle $\\theta$ from the horizontal.\n",
    "\n",
    "a) Find the highest point in the trajectory: $H$\n",
    "\n",
    "$$\n",
    "y = y_0 + V_{0y}t + \\frac{1}{2}at^2 \\\\\n",
    "y = 0 + \\left(V_0\\sin(\\theta)\\right)^2 + \\frac{1}{2}(-g)t^2 \\\\\n",
    "H = \\left(V_0\\sin(\\theta)\\right)\\left(\\frac{V_0\\sin(\\theta)}{g}\\right)-\\frac{g}{2}\\left(\\frac{V_0\\sin(\\theta)}{g}\\right)^2\n",
    "$$"
   ]
  },
  {
   "cell_type": "code",
   "execution_count": null,
   "metadata": {
    "collapsed": true
   },
   "outputs": [],
   "source": []
  }
 ],
 "metadata": {
  "kernelspec": {
   "display_name": "Python 2",
   "language": "python",
   "name": "python2"
  },
  "language_info": {
   "codemirror_mode": {
    "name": "ipython",
    "version": 2
   },
   "file_extension": ".py",
   "mimetype": "text/x-python",
   "name": "python",
   "nbconvert_exporter": "python",
   "pygments_lexer": "ipython2",
   "version": "2.7.10"
  }
 },
 "nbformat": 4,
 "nbformat_minor": 0
}
