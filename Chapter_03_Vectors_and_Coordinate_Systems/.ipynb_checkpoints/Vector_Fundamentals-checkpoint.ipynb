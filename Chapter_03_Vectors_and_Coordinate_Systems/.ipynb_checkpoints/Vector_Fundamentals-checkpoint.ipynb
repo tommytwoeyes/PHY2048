{
 "cells": [
  {
   "cell_type": "markdown",
   "metadata": {},
   "source": [
    "# Vector Fundamentals\n",
    "\n",
    "## Definition\n",
    "A __vector quantity__ is a quantity having both _magnitude_ (size) and _direction._ This is in contrast with __scalar quantities,__ which have magnitude only.\n",
    "\n",
    "## Rough Document Outline\n",
    "* Vector magnitude can be positive or zero, but __never negative.__\n",
    "\n",
    "* __Symbols:__ vectors are represented symbolically as _variables with arrows above them_&mdash;e.g. $\\vec{v}$ or $\\vec{A}$. Variables without arrows&mdash;e.g.$r$ and $A$&mdash;are symbols for scalar values. __This distinction is very important, because frequently both variables&mdash;e.g. $r$ and $\\vec{r}$&mdash;will be used in the same problem, to represent _different quantities.___\n",
    "\n",
    "* The arrow over the symbol always points to the right.\n",
    "\n",
    "* Example vector quantities:\n",
    "    * Displacement\n",
    "    * Velocity\n",
    "    * Acceleration\n",
    "\n",
    "\n",
    "\n"
   ]
  },
  {
   "cell_type": "code",
   "execution_count": null,
   "metadata": {
    "collapsed": true
   },
   "outputs": [],
   "source": []
  }
 ],
 "metadata": {
  "kernelspec": {
   "display_name": "Python 2",
   "language": "python",
   "name": "python2"
  },
  "language_info": {
   "codemirror_mode": {
    "name": "ipython",
    "version": 2
   },
   "file_extension": ".py",
   "mimetype": "text/x-python",
   "name": "python",
   "nbconvert_exporter": "python",
   "pygments_lexer": "ipython2",
   "version": "2.7.10"
  }
 },
 "nbformat": 4,
 "nbformat_minor": 0
}
