{
 "cells": [
  {
   "cell_type": "markdown",
   "metadata": {},
   "source": [
    "# Kinematics\n",
    "\n",
    "Kinematics is the branch of mathematics which describes motion of points, bodies (objects), and systems of bodies without consideration of the forces that may have caused the motion <sup><a href='#https://en.wikipedia.org/wiki/Kinematics'>[1]</a></sup>.\n",
    "\n",
    "---\n",
    "\n",
    "## References\n",
    "<!-- Bibliography -->\n",
    "<small>\n",
    "    <ol>\n",
    "        <li id='https://en.wikipedia.org/wiki/Kinematics'>\"Kinematics.\" Wikipedia. Wikimedia Foundation, 18 Jan. 2016. Web. 18 Jan. 2016. <https://en.wikipedia.org/wiki/Kinematics>.</li>\n",
    "    </ol>\n",
    "</small>"
   ]
  },
  {
   "cell_type": "code",
   "execution_count": null,
   "metadata": {
    "collapsed": true
   },
   "outputs": [],
   "source": []
  }
 ],
 "metadata": {
  "kernelspec": {
   "display_name": "Python 2",
   "language": "python",
   "name": "python2"
  },
  "language_info": {
   "codemirror_mode": {
    "name": "ipython",
    "version": 2
   },
   "file_extension": ".py",
   "mimetype": "text/x-python",
   "name": "python",
   "nbconvert_exporter": "python",
   "pygments_lexer": "ipython2",
   "version": "2.7.10"
  }
 },
 "nbformat": 4,
 "nbformat_minor": 0
}
