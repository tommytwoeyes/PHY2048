{
 "cells": [
  {
   "cell_type": "markdown",
   "metadata": {},
   "source": [
    "# Kinematics Problem\n",
    "\n",
    "A motorist is driving at $20 \\frac{m}{s}$ when she sees that a traffic light $200$m ahead has just turned red.\n",
    "\n",
    "She knows that this light stays read for $15$ seconds, and she wants to reach the light just as it turns green again. It takes her $1.0$ seconds to step on the brakes and begin slowing down. \n",
    "\n",
    "What is here speed as she reached the light at the instant it turns green?\n",
    "\n",
    "### Kinematics Equations\n",
    "\n",
    "The following equations describe position, velocity, and acceleration for uniform motion:\n",
    "\n",
    "###### Position\n",
    "$$s_f = s_ + v_{is}\\Delta t + \\frac{1}{2}a_s(\\Delta t)^2$$\n",
    "\n",
    "###### Velocity\n",
    "$$v_{fs} = v_{is} + a_s\\Delta t$$\n",
    "\n",
    "$$v_{fs}^2 = v_{is}^2 + 2a_s\\Delta t$$\n",
    "\n",
    "## Solution\n",
    "\n",
    "#### Known Facts\n",
    "$$v_{is} = 20 \\frac{m}{s}$$\n",
    "$$s_i = 200 m$$"
   ]
  },
  {
   "cell_type": "code",
   "execution_count": null,
   "metadata": {
    "collapsed": true
   },
   "outputs": [],
   "source": []
  }
 ],
 "metadata": {
  "kernelspec": {
   "display_name": "Python 2",
   "language": "python",
   "name": "python2"
  },
  "language_info": {
   "codemirror_mode": {
    "name": "ipython",
    "version": 2
   },
   "file_extension": ".py",
   "mimetype": "text/x-python",
   "name": "python",
   "nbconvert_exporter": "python",
   "pygments_lexer": "ipython2",
   "version": "2.7.10"
  }
 },
 "nbformat": 4,
 "nbformat_minor": 0
}
