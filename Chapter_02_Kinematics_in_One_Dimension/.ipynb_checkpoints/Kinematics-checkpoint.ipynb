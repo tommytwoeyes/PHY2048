{
 "cells": [
  {
   "cell_type": "markdown",
   "metadata": {},
   "source": [
    "# Kinematics\n",
    "\n",
    "Kinematics is the branch of mathematics which describes motion of points, bodies (objects), and systems of bodies without consideration of the forces that may have caused the motion <sup><a href='#https://en.wikipedia.org/wiki/Kinematics'>[1]</a></sup>.\n",
    "\n",
    "---\n",
    "\n",
    "## Kinematics with Constant Acceleration\n",
    "\n",
    "The mathematical representation for kinematics with constant acceleration are:\n",
    "\n",
    "$$\n",
    "v_{fs} = v_{is} + a_s\\Delta t \\\\\n",
    "s_f = s_i + v_{is}\\Delta t + \\frac{1}{2}a_s(\\Delta t)^2 \\\\\n",
    "v_{fs}^2 = v_{is}^2 + 2a_s\\Delta s\n",
    "$$\n",
    "\n",
    "## References\n",
    "<!-- Bibliography -->\n",
    "<small>\n",
    "    <ol>\n",
    "        <li id='https://en.wikipedia.org/wiki/Kinematics'>\"Kinematics.\" Wikipedia. Wikimedia Foundation, 18 Jan. 2016. Web. 18 Jan. 2016. <https://en.wikipedia.org/wiki/Kinematics>.</li>\n",
    "    </ol>\n",
    "</small>"
   ]
  },
  {
   "cell_type": "code",
   "execution_count": null,
   "metadata": {
    "collapsed": true
   },
   "outputs": [],
   "source": []
  }
 ],
 "metadata": {
  "kernelspec": {
   "display_name": "Python 2",
   "language": "python",
   "name": "python2"
  },
  "language_info": {
   "codemirror_mode": {
    "name": "ipython",
    "version": 2
   },
   "file_extension": ".py",
   "mimetype": "text/x-python",
   "name": "python",
   "nbconvert_exporter": "python",
   "pygments_lexer": "ipython2",
   "version": "2.7.10"
  }
 },
 "nbformat": 4,
 "nbformat_minor": 0
}
