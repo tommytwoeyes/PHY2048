{
 "cells": [
  {
   "cell_type": "markdown",
   "metadata": {},
   "source": [
    "# Acceleration\n",
    "\n",
    "Acceleration, though it seems to be a simple concept, can be quite confusing when represented in motion diagrams and other representations as vector quantities.\n",
    "\n",
    "## Acceleration Vectors\n",
    "\n",
    "### Speeding Up\n",
    "\n",
    "When an object is speeding up, the _acceleration vector_ points in the __same direction__ as the _velocity vector._\n",
    "\n",
    "### Slowing Down\n",
    "\n",
    "When an object is slowing down, the _acceleration vector_ points in the __opposite direction__ as the _velocity vector._\n",
    "\n",
    "### Acceleration &amp; Position\n",
    "\n",
    "Whenever a position graph __curves upward,__ acceleration is _increasing._\n",
    "\n",
    "Whenever a position graph __curves downward,__ acceleration is _decreasing._\n",
    "\n",
    "## One-Dimensional Acceleration\n",
    "\n",
    "When analyzing or describing __one-dimensional__ motion, position, velocity, and acceleration are traditionally represented as scalar values.\n",
    "\n",
    "The sign of acceleration ($a_x$ or $a_y$) tells you _which way the acceleration vector points,_ not whether the object is speeding up or slowing down."
   ]
  },
  {
   "cell_type": "code",
   "execution_count": null,
   "metadata": {
    "collapsed": true
   },
   "outputs": [],
   "source": []
  }
 ],
 "metadata": {
  "kernelspec": {
   "display_name": "Python 2",
   "language": "python",
   "name": "python2"
  },
  "language_info": {
   "codemirror_mode": {
    "name": "ipython",
    "version": 2
   },
   "file_extension": ".py",
   "mimetype": "text/x-python",
   "name": "python",
   "nbconvert_exporter": "python",
   "pygments_lexer": "ipython2",
   "version": "2.7.10"
  }
 },
 "nbformat": 4,
 "nbformat_minor": 0
}
